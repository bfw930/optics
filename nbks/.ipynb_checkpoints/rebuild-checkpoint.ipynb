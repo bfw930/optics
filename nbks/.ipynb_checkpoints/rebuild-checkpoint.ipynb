{
 "cells": [
  {
   "cell_type": "code",
   "execution_count": null,
   "metadata": {},
   "outputs": [],
   "source": [
    "\n",
    "'''\n",
    "\n",
    "import image, scale\n",
    "subsample image, generate rays\n",
    "define standard optics\n",
    "calculate paths, retinal image\n",
    "define altered parameter range\n",
    "calculate reverse paths\n",
    "resample translated image, save\n",
    "\n",
    "\n",
    "'''\n",
    "\n"
   ]
  },
  {
   "cell_type": "code",
   "execution_count": 1,
   "metadata": {},
   "outputs": [],
   "source": [
    "## imports\n",
    "\n",
    "# nd array manipulation\n",
    "import numpy as np\n",
    "\n",
    "from scipy import ndimage\n",
    "\n",
    "# plotting with matplotlib, interactive notebook with jplot style\n",
    "#%matplotlib notebook\n",
    "%matplotlib widget\n",
    "import matplotlib.pyplot as plt\n",
    "#from jupyterthemes import jtplot; jtplot.style()\n",
    "\n",
    "# 3d plotting toolkit\n",
    "from mpl_toolkits.mplot3d import Axes3D\n",
    "\n",
    "# colour mapping helpers\n",
    "import matplotlib.colors as colors\n",
    "import matplotlib.cm as cmx\n"
   ]
  },
  {
   "cell_type": "code",
   "execution_count": 3,
   "metadata": {},
   "outputs": [
    {
     "name": "stdout",
     "output_type": "stream",
     "text": [
      "The autoreload extension is already loaded. To reload it, use:\n",
      "  %reload_ext autoreload\n"
     ]
    }
   ],
   "source": [
    "# set auto reload imported modules tagged\n",
    "%load_ext autoreload\n",
    "%autoreload 2\n",
    "\n",
    "# add custom python packages directory to path\n",
    "import sys\n",
    "sys.path.append('/home/brendan/dev/optics')\n",
    "\n",
    "# import path tracing and image transformation engine\n",
    "import optics\n"
   ]
  },
  {
   "cell_type": "code",
   "execution_count": 4,
   "metadata": {},
   "outputs": [
    {
     "name": "stdout",
     "output_type": "stream",
     "text": [
      "10201\n"
     ]
    }
   ],
   "source": [
    "''' Generate Target Image '''\n",
    "\n",
    "# set edge length\n",
    "edge_len = 101\n",
    "\n",
    "# generate pattern image (target)\n",
    "test_image = optics.gen_image(edge_len)\n",
    "\n",
    "# import image, scaled to edge length\n",
    "#test_image = optics.import_image('./test-img-1.png', edge_len)\n"
   ]
  },
  {
   "cell_type": "code",
   "execution_count": 5,
   "metadata": {},
   "outputs": [
    {
     "name": "stdout",
     "output_type": "stream",
     "text": [
      "401\n",
      "160801\n"
     ]
    }
   ],
   "source": [
    "''' Generate Initial Ray '''\n",
    "\n",
    "# set height of target image (mm), and supersample factor\n",
    "height = 5.\n",
    "ss = 4.\n",
    "\n",
    "# generate rays for image translation (list np.array[px, py, pz, vx, vy, vz] )\n",
    "rays = optics.gen_img_rays(edge_len, height, ss)\n"
   ]
  },
  {
   "cell_type": "code",
   "execution_count": 6,
   "metadata": {},
   "outputs": [],
   "source": [
    "''' Define Standard Optics '''\n",
    "\n",
    "# define standard optical parameters\n",
    "opt_params = {\n",
    "    'eye_front': 300.,\n",
    "    \n",
    "    'cornea_sph': 1.,\n",
    "    'cornea_axis': 0.,\n",
    "    \n",
    "    'cornea_pow': np.sqrt(0.5),\n",
    "    'cornea_f_rad': 7.8,\n",
    "    'cornea_r_rad': 6.4,\n",
    "    'cornea_thick': 0.6,\n",
    "    'aqueous_thick': 3.0,\n",
    "    \n",
    "    'iris_dia': 4.,\n",
    "    \n",
    "    'lens_thick': 4.,\n",
    "    'lens_f_rad_max': 10.1,\n",
    "    'lens_f_rad_min': 5.95,\n",
    "    'lens_r_rad_max': 6.1,\n",
    "    'lens_r_rad_min': 4.5,\n",
    "    \n",
    "    'focus': 1.,\n",
    "    \n",
    "    'lens_pow': np.sqrt(4.5),\n",
    "    \n",
    "    'retina_thick': 17.2,\n",
    "    'retina_rad': 12.5,\n",
    "}\n",
    "\n",
    "# generate standard optics chain\n",
    "opts = optics.gen_optics(opt_params)\n"
   ]
  },
  {
   "cell_type": "code",
   "execution_count": 7,
   "metadata": {},
   "outputs": [],
   "source": [
    "''' Calculate Ray Paths through Optics '''\n",
    "\n",
    "# calculate ray paths through optics chain to retina\n",
    "paths = optics.get_paths(rays, opts)\n"
   ]
  },
  {
   "cell_type": "code",
   "execution_count": 8,
   "metadata": {},
   "outputs": [],
   "source": [
    "''' Generate Reverse Rays '''\n",
    "\n",
    "# generate reverse rays for back propagation through reverse optics chain\n",
    "back_rays = optics.gen_rev_rays(paths, opt_params)\n"
   ]
  },
  {
   "cell_type": "code",
   "execution_count": 18,
   "metadata": {},
   "outputs": [],
   "source": [
    "''' Define Reverse Optics (Stigmatism) '''\n",
    "\n",
    "#### UPDATE for delta params only\n",
    "\n",
    "# define stigmatism optics chain by optical parameters\n",
    "rev_opt_params = {\n",
    "    'eye_front': 300.,\n",
    "    \n",
    "    #'cornea_sph': 1.,\n",
    "    'cornea_sph': 1.02,\n",
    "    'cornea_axis': 0.,\n",
    "    \n",
    "    'cornea_pow': np.sqrt(0.5),\n",
    "    'cornea_f_rad': 7.8,\n",
    "    'cornea_r_rad': 6.4,\n",
    "    'cornea_thick': 0.6,\n",
    "    'aqueous_thick': 3.0,\n",
    "    \n",
    "    'iris_dia': 4.,\n",
    "    \n",
    "    'lens_thick': 4.,\n",
    "    'lens_f_rad_max': 10.1,\n",
    "    'lens_f_rad_min': 5.95,\n",
    "    'lens_r_rad_max': 6.1,\n",
    "    'lens_r_rad_min': 4.5,\n",
    "    \n",
    "    'focus': 1.,\n",
    "    \n",
    "    'lens_pow': np.sqrt(4.5),\n",
    "    \n",
    "    'retina_thick': 17.2,\n",
    "    'retina_rad': 12.5,\n",
    "}\n",
    "\n",
    "# generate standard optics chain\n",
    "rev_opts = optics.gen_optics_rev(rev_opt_params)\n"
   ]
  },
  {
   "cell_type": "code",
   "execution_count": 19,
   "metadata": {},
   "outputs": [],
   "source": [
    "''' get ray paths through optics chain ''' \n",
    "\n",
    "# calculate reverse ray paths from retina, set initial refractive index\n",
    "rev_paths = optics.get_paths(back_rays, rev_opts, n0 = 1.337)\n"
   ]
  },
  {
   "cell_type": "code",
   "execution_count": 20,
   "metadata": {},
   "outputs": [],
   "source": [
    "''' Resample Translated Rays as Image'''\n",
    "\n",
    "# get index of only rays that reach retina\n",
    "j = [ i for i in range(len(paths)) if len(paths[i]) == 7 ]\n",
    "\n",
    "# supersample image, get map of image pixel colour to each ray\n",
    "img_map = ndimage.zoom(test_image, (((test_image.shape[0] - 1) * ss) + 1) / test_image.shape[0]).flatten()[j]\n",
    "\n",
    "# get retinal image\n",
    "#pts = np.stack([ path[-1][0] for path in rev_paths ])[:,1:]\n",
    "pts = np.stack([ path[-1][0] for path in rev_paths ])[:,1:]\n",
    "\n",
    "\n",
    "# calculate ray initial positions\n",
    "rng = height / 2\n",
    "# calculate step with subsample\n",
    "stp = 2 * rng / ((edge_len - 1))\n",
    "\n",
    "\n",
    "# define image ranges (pixel bins)\n",
    "xs = np.arange(-rng, rng + stp, stp)[:]\n",
    "ys = np.arange(-rng, rng + stp, stp)[:]\n",
    "\n",
    "# generate empty image map\n",
    "grid = np.zeros( (xs.shape[0],ys.shape[0]) )\n",
    "\n",
    "# iterate over pixel bins\n",
    "for i in range(len(xs)-1):\n",
    "    for j in range(len(ys)-1):\n",
    "        \n",
    "        # get rays in pixel bin range\n",
    "        k = np.where(\n",
    "            (pts[:,0] >= xs[i]) &\n",
    "            (pts[:,0] <= xs[i+1]) &\n",
    "            (pts[:,1] >= ys[j]) &\n",
    "            (pts[:,1] <= ys[j+1])\n",
    "        )\n",
    "        \n",
    "        # average rays in pixel bin by image value\n",
    "        if len(k[0]) > 0:\n",
    "            #grid[j,i] = np.mean(img_map[k][:])\n",
    "            grid[j,i] = np.median(img_map[k][:])\n"
   ]
  },
  {
   "cell_type": "code",
   "execution_count": 13,
   "metadata": {},
   "outputs": [
    {
     "data": {
      "application/vnd.jupyter.widget-view+json": {
       "model_id": "ecd782d49cbc468093fe44a7b1141b4e",
       "version_major": 2,
       "version_minor": 0
      },
      "text/plain": [
       "Canvas(toolbar=Toolbar(toolitems=[('Home', 'Reset original view', 'home', 'home'), ('Back', 'Back to previous …"
      ]
     },
     "metadata": {},
     "output_type": "display_data"
    }
   ],
   "source": [
    "plt.figure(figsize = (6,5))\n",
    "\n",
    "plt.subplot(121)\n",
    "plt.grid(''); plt.xticks([]); plt.yticks([])\n",
    "\n",
    "plt.imshow(test_image, cmap = 'bone_r', vmin = 0., vmax = 1.)\n",
    "\n",
    "\n",
    "plt.subplot(122)\n",
    "plt.grid(''); plt.xticks([]); plt.yticks([])\n",
    "\n",
    "_img = ndimage.filters.median_filter(grid, size = 4)\n",
    "#_img = grid.copy()\n",
    "\n",
    "plt.imshow(_img, cmap = 'bone_r', vmin = 0., vmax = 1.)\n",
    "\n",
    "#plt.savefig('./images/output-0s95.png', dpi = 200)\n",
    "\n",
    "plt.show()"
   ]
  },
  {
   "cell_type": "code",
   "execution_count": 22,
   "metadata": {},
   "outputs": [
    {
     "data": {
      "application/vnd.jupyter.widget-view+json": {
       "model_id": "4342ae6277a54277a1ae926ac17124fb",
       "version_major": 2,
       "version_minor": 0
      },
      "text/plain": [
       "Canvas(toolbar=Toolbar(toolitems=[('Home', 'Reset original view', 'home', 'home'), ('Back', 'Back to previous …"
      ]
     },
     "metadata": {},
     "output_type": "display_data"
    }
   ],
   "source": [
    "plt.figure(figsize = (6,5))\n",
    "\n",
    "plt.subplot(121)\n",
    "plt.grid(''); plt.xticks([]); plt.yticks([])\n",
    "\n",
    "plt.imshow(test_image, cmap = 'bone_r', vmin = 0., vmax = 1.)\n",
    "\n",
    "\n",
    "plt.subplot(122)\n",
    "plt.grid(''); plt.xticks([]); plt.yticks([])\n",
    "\n",
    "_img = ndimage.filters.median_filter(grid, size = 4)\n",
    "#_img = grid.copy()\n",
    "\n",
    "plt.imshow(_img, cmap = 'bone_r', vmin = 0., vmax = 1.)\n",
    "\n",
    "#plt.savefig('./images/output-0s95.png', dpi = 200)\n",
    "\n",
    "plt.show()"
   ]
  },
  {
   "cell_type": "code",
   "execution_count": null,
   "metadata": {},
   "outputs": [],
   "source": []
  },
  {
   "cell_type": "code",
   "execution_count": null,
   "metadata": {},
   "outputs": [],
   "source": []
  },
  {
   "cell_type": "code",
   "execution_count": null,
   "metadata": {},
   "outputs": [],
   "source": [
    "''' Resample Translated Rays as Image'''\n",
    "\n",
    "grid = translate_image(test_image, ss, paths, rev_paths, height, edge_len)\n"
   ]
  },
  {
   "cell_type": "code",
   "execution_count": null,
   "metadata": {},
   "outputs": [],
   "source": []
  },
  {
   "cell_type": "code",
   "execution_count": null,
   "metadata": {},
   "outputs": [],
   "source": [
    "## plot ray paths\n",
    "\n",
    "# initialise 3d figure\n",
    "fig = plt.figure(figsize = (8,8))\n",
    "ax = fig.add_subplot(111, projection='3d')\n",
    "\n",
    "#ax.set_xlim(0., 250.)\n",
    "#ax.set_ylim(-15., 15.)\n",
    "#ax.set_zlim(-15., 15.)\n",
    "\n",
    "\n",
    "# plot all optics\n",
    "if True:\n",
    "    # iterate over each optic in chain\n",
    "    for optic in opts[:]:\n",
    "        \n",
    "        # get optic parameters\n",
    "        C = optic['centre']\n",
    "        r = optic['radius']\n",
    "        e = optic['scale']\n",
    "        n2 = optic['opt_den']\n",
    "        rev = optic['rev']\n",
    "\n",
    "        # get optic points in 3d for plotting\n",
    "        x, y, z = optics.plot_3d_ellipsoid(C, r, e, rev)\n",
    "        # plot ellipsoid\n",
    "        ax.plot_wireframe(x, y, z,  rstride = 2, cstride = 2, color = 'k', alpha = 0.5)\n",
    "\n",
    "\n",
    "# iterate over each ray path\n",
    "for i in range(len(paths))[::100]:\n",
    "    \n",
    "    # check for any refraction of ray with optics\n",
    "    #if len(paths[i]) > 1:\n",
    "    # only ray that hit retina\n",
    "    if len(paths[i]) == 7:\n",
    "        path = paths[i]\n",
    "        \n",
    "        # iterate ray path through optics\n",
    "        for j in range(len(path)-1)[1:]:\n",
    "            \n",
    "            # plot path segment\n",
    "            ax.plot([path[j][0][0], path[j+1][0][0]],\n",
    "                    [path[j][0][1], path[j+1][0][1]],\n",
    "                    [path[j][0][2], path[j+1][0][2]],\n",
    "                    color = 'r', alpha = 0.7)\n",
    "\n",
    "# format and display figure\n",
    "plt.show()\n"
   ]
  },
  {
   "cell_type": "code",
   "execution_count": null,
   "metadata": {},
   "outputs": [],
   "source": [
    "# initialise 3d figure\n",
    "fig = plt.figure(figsize = (8,8))\n",
    "ax = fig.add_subplot(111, projection='3d')\n",
    "\n",
    "#ax.set_xlim(0., 50.)\n",
    "#ax.set_ylim(-15., 15.)\n",
    "#ax.set_zlim(-15., 15.)\n",
    "\n",
    "\n",
    "# plot all optics\n",
    "if True:\n",
    "    # iterate over each optic in chain\n",
    "    for optic in rev_opts[:-1]:\n",
    "        \n",
    "        # get optic parameters\n",
    "        C = optic['centre']\n",
    "        r = optic['radius']\n",
    "        e = optic['scale']\n",
    "        n2 = optic['opt_den']\n",
    "        rev = optic['rev']\n",
    "\n",
    "        # get optic points in 3d for plotting\n",
    "        x, y, z = optics.plot_3d_ellipsoid(C, r, e, rev)\n",
    "        # plot ellipsoid\n",
    "        ax.plot_wireframe(x, y, z,  rstride = 2, cstride = 2, color = 'k', alpha = 0.5)\n",
    "\n",
    "\n",
    "# iterate over each ray path\n",
    "for i in range(len(rev_paths))[::100]:\n",
    "    \n",
    "    # check for any refraction of ray with optics\n",
    "    if len(paths[i]) > 1:\n",
    "    # only ray that hit retina\n",
    "    #if len(paths[i]) == 7:\n",
    "        path = rev_paths[i]\n",
    "        \n",
    "        # iterate ray path through optics\n",
    "        for j in range(len(path)-1)[:]:\n",
    "            \n",
    "            # plot path segment\n",
    "            ax.plot([path[j][0][0], path[j+1][0][0]],\n",
    "                    [path[j][0][1], path[j+1][0][1]],\n",
    "                    [path[j][0][2], path[j+1][0][2]],\n",
    "                    color = 'r', alpha = 0.7)\n",
    "\n",
    "# format and display figure\n",
    "plt.show()\n"
   ]
  },
  {
   "cell_type": "code",
   "execution_count": null,
   "metadata": {},
   "outputs": [],
   "source": []
  }
 ],
 "metadata": {
  "kernelspec": {
   "display_name": "optics",
   "language": "python",
   "name": "optics"
  },
  "language_info": {
   "codemirror_mode": {
    "name": "ipython",
    "version": 3
   },
   "file_extension": ".py",
   "mimetype": "text/x-python",
   "name": "python",
   "nbconvert_exporter": "python",
   "pygments_lexer": "ipython3",
   "version": "3.7.3"
  }
 },
 "nbformat": 4,
 "nbformat_minor": 4
}
