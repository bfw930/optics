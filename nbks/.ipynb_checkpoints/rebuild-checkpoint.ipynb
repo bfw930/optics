{
 "cells": [
  {
   "cell_type": "code",
   "execution_count": 1,
   "metadata": {},
   "outputs": [],
   "source": [
    "''' initialise development environment '''\n",
    "\n",
    "# set auto reload imported modules tagged\n",
    "%load_ext autoreload\n",
    "%autoreload 2\n"
   ]
  },
  {
   "cell_type": "code",
   "execution_count": 3,
   "metadata": {},
   "outputs": [],
   "source": [
    "''' import optics package '''\n",
    "\n",
    "# add custom python packages directory to path\n",
    "import sys\n",
    "sys.path.append('/home/brendan/dev/optics')\n",
    "\n",
    "# import path tracing and image transformation engine\n",
    "import optics\n"
   ]
  },
  {
   "cell_type": "code",
   "execution_count": 4,
   "metadata": {},
   "outputs": [],
   "source": [
    "''' Imports '''\n",
    "\n",
    "# nd array manipulation\n",
    "import numpy as np\n",
    "\n",
    "# image manipulation\n",
    "from scipy import ndimage\n",
    "\n",
    "# plotting with matplotlib, interactive notebook, 3d toolkit\n",
    "%matplotlib widget\n",
    "import matplotlib.pyplot as plt\n",
    "from mpl_toolkits.mplot3d import Axes3D\n"
   ]
  },
  {
   "cell_type": "code",
   "execution_count": 53,
   "metadata": {},
   "outputs": [
    {
     "name": "stdout",
     "output_type": "stream",
     "text": [
      "22801\n"
     ]
    },
    {
     "data": {
      "application/vnd.jupyter.widget-view+json": {
       "model_id": "5d4f84017d8d4b858ed6701c84f68dc3",
       "version_major": 2,
       "version_minor": 0
      },
      "text/plain": [
       "Canvas(toolbar=Toolbar(toolitems=[('Home', 'Reset original view', 'home', 'home'), ('Back', 'Back to previous …"
      ]
     },
     "metadata": {},
     "output_type": "display_data"
    }
   ],
   "source": [
    "''' Generate Target Image '''\n",
    "\n",
    "# set edge length; ensure odd\n",
    "edge_len = 151\n",
    "\n",
    "# generate pattern image (target)\n",
    "test_image = optics.gen_image(edge_len)\n",
    "\n",
    "# import image, scaled to edge length\n",
    "#test_image = optics.import_image('../data/test-img-1.png', edge_len)\n",
    "\n",
    "\n",
    "# initialise figure and axes, clean format\n",
    "_w = 4; _h = 4\n",
    "fig = plt.figure(figsize = (_w, _h))\n",
    "fig.canvas.layout.width = '{}in'.format(_w)\n",
    "fig.canvas.layout.height= '{}in'.format(_h)\n",
    "ax = fig.add_subplot(111)\n",
    "ax.grid([]); ax.set_xticks([]); ax.set_yticks([])\n",
    "\n",
    "\n",
    "_img = test_image\n",
    "#_img = ndimage.gaussian_filter(test_image, sigma = 1.)\n",
    "\n",
    "ax.imshow(_img, cmap = 'bone_r', vmin = 0, vmax = 1)\n",
    "\n",
    "\n",
    "plt.tight_layout()\n",
    "plt.show()\n"
   ]
  },
  {
   "cell_type": "code",
   "execution_count": 55,
   "metadata": {},
   "outputs": [
    {
     "name": "stdout",
     "output_type": "stream",
     "text": [
      "301\n",
      "90601\n",
      "20140\n"
     ]
    }
   ],
   "source": [
    "''' Generate Initial Ray '''\n",
    "\n",
    "# set height of target image (mm), and supersample factor\n",
    "height = 5.\n",
    "ss = 2.\n",
    "\n",
    "# generate rays for image translation (list np.array[px, py, pz, vx, vy, vz] )\n",
    "rays = optics.gen_img_rays(edge_len, height, test_image, ss)\n"
   ]
  },
  {
   "cell_type": "code",
   "execution_count": 62,
   "metadata": {},
   "outputs": [],
   "source": [
    "''' Define Standard Optics '''\n",
    "\n",
    "# get standard optical parameters\n",
    "opt_params = optics.std_opt_params()\n",
    "\n",
    "# overwrite standard optical parameters\n",
    "opt_params = { **opt_params,\n",
    "    \n",
    "    #'eye_front': 300.,\n",
    "    \n",
    "    #'cornea_sph': 1.,\n",
    "    #'cornea_axis': 0.,\n",
    "    \n",
    "    #'cornea_pow': np.sqrt(0.5),\n",
    "    \n",
    "    #'iris_dia': 4.,\n",
    "    \n",
    "    #'focus': 1.,\n",
    "    \n",
    "    #'lens_pow': np.sqrt(4.5),\n",
    "    \n",
    "    #'retina_thick': 17.2,\n",
    "}\n",
    "\n",
    "# generate standard optics chain\n",
    "opts = optics.gen_optics(opt_params)\n"
   ]
  },
  {
   "cell_type": "code",
   "execution_count": 63,
   "metadata": {},
   "outputs": [],
   "source": [
    "''' Calculate Ray Paths through Optics '''\n",
    "\n",
    "# calculate ray paths through optics chain to retina\n",
    "paths = optics.get_paths(rays, opts)\n"
   ]
  },
  {
   "cell_type": "code",
   "execution_count": 64,
   "metadata": {},
   "outputs": [],
   "source": [
    "''' Generate Reverse Rays '''\n",
    "\n",
    "# generate reverse rays for back propagation through reverse optics chain\n",
    "back_rays = optics.gen_rev_rays(paths, opt_params)\n"
   ]
  },
  {
   "cell_type": "code",
   "execution_count": 65,
   "metadata": {},
   "outputs": [],
   "source": [
    "''' Define Reverse Optics (Stigmatism) '''\n",
    "\n",
    "# define stigmatism optics chain by optical parameters\n",
    "rev_opt_params = {**opt_params,\n",
    "    'cornea_sph': opt_params['cornea_sph'] - 0.015,\n",
    "}\n",
    "\n",
    "# generate standard optics chain, overwrite existing params\n",
    "rev_opts = optics.gen_optics_rev(rev_opt_params)\n"
   ]
  },
  {
   "cell_type": "code",
   "execution_count": 66,
   "metadata": {},
   "outputs": [],
   "source": [
    "''' get ray paths through optics chain ''' \n",
    "\n",
    "# calculate reverse ray paths from retina, set initial refractive index\n",
    "rev_paths = optics.get_paths(back_rays, rev_opts, n0 = 1.337)\n"
   ]
  },
  {
   "cell_type": "code",
   "execution_count": 67,
   "metadata": {},
   "outputs": [],
   "source": [
    "''' Resample Translated Rays as Image'''\n",
    "\n",
    "# build image by resample return rays over area\n",
    "grid = optics.translate_image(test_image, ss, paths, rev_paths, height, edge_len)\n"
   ]
  },
  {
   "cell_type": "code",
   "execution_count": 69,
   "metadata": {},
   "outputs": [
    {
     "data": {
      "application/vnd.jupyter.widget-view+json": {
       "model_id": "8f03dd45de1248d1a2934c75d634c413",
       "version_major": 2,
       "version_minor": 0
      },
      "text/plain": [
       "Canvas(toolbar=Toolbar(toolitems=[('Home', 'Reset original view', 'home', 'home'), ('Back', 'Back to previous …"
      ]
     },
     "metadata": {},
     "output_type": "display_data"
    }
   ],
   "source": [
    "# initialise figure and axes, clean format\n",
    "_w = 7; _h = 4\n",
    "fig = plt.figure(figsize = (_w, _h))\n",
    "fig.canvas.layout.width = '{}in'.format(_w)\n",
    "fig.canvas.layout.height= '{}in'.format(_h)\n",
    "\n",
    "plt.subplot(121)\n",
    "plt.grid(''); plt.xticks([]); plt.yticks([])\n",
    "\n",
    "plt.imshow(test_image, cmap = 'bone_r', vmin = 0., vmax = 1.)\n",
    "\n",
    "\n",
    "plt.subplot(122)\n",
    "plt.grid(''); plt.xticks([]); plt.yticks([])\n",
    "\n",
    "#_img = ndimage.filters.median_filter(grid, size = 4)\n",
    "_img = grid.copy()\n",
    "\n",
    "plt.imshow(_img, cmap = 'bone_r', vmin = 0., vmax = 1.)\n",
    "\n",
    "#plt.savefig('./images/output-0s95.png', dpi = 200)\n",
    "\n",
    "plt.tight_layout()\n",
    "plt.show()\n"
   ]
  },
  {
   "cell_type": "code",
   "execution_count": null,
   "metadata": {},
   "outputs": [],
   "source": []
  },
  {
   "cell_type": "code",
   "execution_count": 36,
   "metadata": {},
   "outputs": [
    {
     "data": {
      "application/vnd.jupyter.widget-view+json": {
       "model_id": "670e96bae287486fb1823d15ec0bbb5c",
       "version_major": 2,
       "version_minor": 0
      },
      "text/plain": [
       "Canvas(toolbar=Toolbar(toolitems=[('Home', 'Reset original view', 'home', 'home'), ('Back', 'Back to previous …"
      ]
     },
     "metadata": {},
     "output_type": "display_data"
    }
   ],
   "source": [
    "## plot ray paths\n",
    "\n",
    "# initialise 3d figure\n",
    "_w = 7; _h = 6\n",
    "fig = plt.figure(figsize = (_w, _h))\n",
    "fig.canvas.layout.width = '{}in'.format(_w)\n",
    "fig.canvas.layout.height= '{}in'.format(_h)\n",
    "ax = fig.add_subplot(111, projection='3d')\n",
    "\n",
    "#ax.set_xlim(0., 250.)\n",
    "#ax.set_ylim(-15., 15.)\n",
    "#ax.set_zlim(-15., 15.)\n",
    "\n",
    "\n",
    "# plot all optics\n",
    "if True:\n",
    "    # iterate over each optic in chain\n",
    "    for optic in opts[:]:\n",
    "        \n",
    "        # get optic parameters\n",
    "        C = optic['centre']\n",
    "        r = optic['radius']\n",
    "        e = optic['scale']\n",
    "        n2 = optic['opt_den']\n",
    "        rev = optic['rev']\n",
    "\n",
    "        # get optic points in 3d for plotting\n",
    "        x, y, z = optics.plot_3d_ellipsoid(C, r, e, rev)\n",
    "        # plot ellipsoid\n",
    "        ax.plot_wireframe(x, y, z,  rstride = 2, cstride = 2, color = 'k', alpha = 0.5)\n",
    "\n",
    "\n",
    "# iterate over each ray path\n",
    "for i in range(len(paths))[::100]:\n",
    "    \n",
    "    # check for any refraction of ray with optics\n",
    "    #if len(paths[i]) > 1:\n",
    "    # only ray that hit retina\n",
    "    if len(paths[i]) == 7:\n",
    "        path = paths[i]\n",
    "        \n",
    "        # iterate ray path through optics\n",
    "        for j in range(len(path)-1)[1:]:\n",
    "            \n",
    "            # plot path segment\n",
    "            ax.plot([path[j][0][0], path[j+1][0][0]],\n",
    "                    [path[j][0][1], path[j+1][0][1]],\n",
    "                    [path[j][0][2], path[j+1][0][2]],\n",
    "                    color = 'r', alpha = 0.7)\n",
    "\n",
    "# format and display figure\n",
    "plt.show()\n"
   ]
  },
  {
   "cell_type": "code",
   "execution_count": 38,
   "metadata": {},
   "outputs": [
    {
     "data": {
      "application/vnd.jupyter.widget-view+json": {
       "model_id": "5bcd8663bea24d50a3cc316eb874513f",
       "version_major": 2,
       "version_minor": 0
      },
      "text/plain": [
       "Canvas(toolbar=Toolbar(toolitems=[('Home', 'Reset original view', 'home', 'home'), ('Back', 'Back to previous …"
      ]
     },
     "metadata": {},
     "output_type": "display_data"
    }
   ],
   "source": [
    "# initialise 3d figure\n",
    "_w = 7; _h = 6\n",
    "fig = plt.figure(figsize = (_w, _h))\n",
    "fig.canvas.layout.width = '{}in'.format(_w)\n",
    "fig.canvas.layout.height= '{}in'.format(_h)\n",
    "ax = fig.add_subplot(111, projection='3d')\n",
    "\n",
    "#ax.set_xlim(0., 50.)\n",
    "#ax.set_ylim(-15., 15.)\n",
    "#ax.set_zlim(-15., 15.)\n",
    "\n",
    "\n",
    "# plot all optics\n",
    "if True:\n",
    "    # iterate over each optic in chain\n",
    "    for optic in rev_opts[:-1]:\n",
    "        \n",
    "        # get optic parameters\n",
    "        C = optic['centre']\n",
    "        r = optic['radius']\n",
    "        e = optic['scale']\n",
    "        n2 = optic['opt_den']\n",
    "        rev = optic['rev']\n",
    "\n",
    "        # get optic points in 3d for plotting\n",
    "        x, y, z = optics.plot_3d_ellipsoid(C, r, e, rev)\n",
    "        # plot ellipsoid\n",
    "        ax.plot_wireframe(x, y, z,  rstride = 2, cstride = 2, color = 'k', alpha = 0.5)\n",
    "\n",
    "\n",
    "# iterate over each ray path\n",
    "for i in range(len(rev_paths))[::100]:\n",
    "    \n",
    "    # check for any refraction of ray with optics\n",
    "    if len(paths[i]) > 1:\n",
    "    # only ray that hit retina\n",
    "    #if len(paths[i]) == 7:\n",
    "        path = rev_paths[i]\n",
    "        \n",
    "        # iterate ray path through optics\n",
    "        for j in range(len(path)-1)[:-1]:\n",
    "            \n",
    "            # plot path segment\n",
    "            ax.plot([path[j][0][0], path[j+1][0][0]],\n",
    "                    [path[j][0][1], path[j+1][0][1]],\n",
    "                    [path[j][0][2], path[j+1][0][2]],\n",
    "                    color = 'r', alpha = 0.7)\n",
    "\n",
    "# format and display figure\n",
    "plt.show()\n"
   ]
  },
  {
   "cell_type": "code",
   "execution_count": null,
   "metadata": {},
   "outputs": [],
   "source": []
  }
 ],
 "metadata": {
  "kernelspec": {
   "display_name": "optics",
   "language": "python",
   "name": "optics"
  },
  "language_info": {
   "codemirror_mode": {
    "name": "ipython",
    "version": 3
   },
   "file_extension": ".py",
   "mimetype": "text/x-python",
   "name": "python",
   "nbconvert_exporter": "python",
   "pygments_lexer": "ipython3",
   "version": "3.7.3"
  }
 },
 "nbformat": 4,
 "nbformat_minor": 4
}
