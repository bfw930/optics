{
 "cells": [
  {
   "cell_type": "code",
   "execution_count": 1,
   "metadata": {},
   "outputs": [],
   "source": [
    "''' initialise development environment '''\n",
    "\n",
    "# set auto reload imported modules tagged\n",
    "%load_ext autoreload\n",
    "%autoreload 2\n"
   ]
  },
  {
   "cell_type": "code",
   "execution_count": 2,
   "metadata": {},
   "outputs": [],
   "source": [
    "''' import optics package '''\n",
    "\n",
    "# add custom python packages directory to path\n",
    "import sys\n",
    "sys.path.append('/home/brendan/dev/optics')\n",
    "\n",
    "\n",
    "%matplotlib widget\n",
    "\n",
    "\n",
    "# import path tracing and image transformation engine\n",
    "import optics\n"
   ]
  },
  {
   "cell_type": "code",
   "execution_count": 36,
   "metadata": {},
   "outputs": [],
   "source": [
    "''' Imports '''\n",
    "\n",
    "# nd array manipulation\n",
    "import numpy as np\n",
    "\n",
    "# image manipulation\n",
    "from scipy import ndimage\n",
    "\n",
    "# plotting with matplotlib, interactive notebook, 3d toolkit\n",
    "\n",
    "import matplotlib.pyplot as plt\n",
    "from mpl_toolkits.mplot3d import Axes3D\n",
    "\n",
    "# colour mapping helpers\n",
    "import matplotlib.colors as colors\n",
    "import matplotlib.cm as cmx\n"
   ]
  },
  {
   "cell_type": "code",
   "execution_count": 37,
   "metadata": {},
   "outputs": [
    {
     "data": {
      "application/vnd.jupyter.widget-view+json": {
       "model_id": "cef3929d5e5346b392ea364f4e1f1411",
       "version_major": 2,
       "version_minor": 0
      },
      "text/plain": [
       "Canvas(toolbar=Toolbar(toolitems=[('Home', 'Reset original view', 'home', 'home'), ('Back', 'Back to previous …"
      ]
     },
     "metadata": {},
     "output_type": "display_data"
    }
   ],
   "source": [
    "''' Test Sphere Scale and Axis '''\n",
    "\n",
    "\n",
    "## plot ray paths\n",
    "\n",
    "# initialise 3d figure\n",
    "fig = plt.figure(figsize = (8,8))\n",
    "ax = fig.add_subplot(111, projection='3d')\n",
    "\n",
    "ax.set_xlim(-2., 2.)\n",
    "ax.set_ylim(-2., 2.)\n",
    "ax.set_zlim(-2., 2.)\n",
    "\n",
    "\n",
    "n2 = 1.0\n",
    "rev = False\n",
    "C = np.array([0., 0., 0.])\n",
    "r = 1.\n",
    "\n",
    "es = [1., 0.8]\n",
    "\n",
    "cnorm = colors.Normalize(vmin = 0, vmax = len(es)); smap = cmx.ScalarMappable(norm = cnorm, cmap = 'magma_r')\n",
    "\n",
    "for i in range(len(es)):\n",
    "    \n",
    "    c = smap.to_rgba(i)\n",
    "    \n",
    "    #e = np.array([ es[i] , 1., 1.])\n",
    "    e = np.array([ 1., es[i], 1.])\n",
    "\n",
    "    # get optic points in 3d for plotting\n",
    "    x, y, z = optics.plot_3d_ellipsoid(C, r, e, rev, 0., full = False)\n",
    "    # plot ellipsoid\n",
    "    ax.plot_wireframe(x, y, z,  rstride = 3, cstride = 3, color = c, alpha = 0.5, label = '{}'.format(es[i]))\n",
    "\n",
    "\n",
    "# format and display figure\n",
    "plt.legend()\n",
    "plt.show()\n"
   ]
  },
  {
   "cell_type": "code",
   "execution_count": 39,
   "metadata": {},
   "outputs": [
    {
     "data": {
      "application/vnd.jupyter.widget-view+json": {
       "model_id": "1e8e51e2c4b246f9b493dba32f74e08d",
       "version_major": 2,
       "version_minor": 0
      },
      "text/plain": [
       "Canvas(toolbar=Toolbar(toolitems=[('Home', 'Reset original view', 'home', 'home'), ('Back', 'Back to previous …"
      ]
     },
     "metadata": {},
     "output_type": "display_data"
    }
   ],
   "source": [
    "''' Test Sphere Scale and Axis '''\n",
    "\n",
    "\n",
    "## plot ray paths\n",
    "\n",
    "# initialise 3d figure\n",
    "fig = plt.figure(figsize = (8,8))\n",
    "ax = fig.add_subplot(111, projection='3d')\n",
    "\n",
    "ax.set_xlim(-2., 2.)\n",
    "ax.set_ylim(-2., 2.)\n",
    "ax.set_zlim(-2., 2.)\n",
    "\n",
    "\n",
    "n2 = 1.0\n",
    "rev = False\n",
    "C = np.array([0., 0., 0.])\n",
    "r = 1.\n",
    "\n",
    "es = [1., 1.2]\n",
    "\n",
    "cnorm = colors.Normalize(vmin = 0, vmax = len(es)); smap = cmx.ScalarMappable(norm = cnorm, cmap = 'magma_r')\n",
    "\n",
    "for ei in range(len(es)):\n",
    "    \n",
    "    c = smap.to_rgba(ei)\n",
    "    \n",
    "    #e = np.array([ es[i] , 1., 1.])\n",
    "    e = np.array([ 1., es[ei], 1.])\n",
    "\n",
    "    # generate and plot lens (ellipsoid)\n",
    "    rx, ry, rz = np.array(e) * r\n",
    "\n",
    "    # set of all spherical angles:\n",
    "    #u = np.linspace(0.5 * np.pi, 1.5 * np.pi, 50)\n",
    "    u = np.linspace(0.5 * np.pi, 1.5 * np.pi, 50)\n",
    "    if True:\n",
    "        k = np.linspace(0., 2*np.pi, 50)\n",
    "    else:\n",
    "        k = np.linspace(0., np.pi, 50)\n",
    "\n",
    "    theta = np.deg2rad(30)\n",
    "    rotate = np.array([\n",
    "        [1,0,0],\n",
    "        [0, np.cos(theta), -np.sin(theta)],\n",
    "        [0, np.sin(theta), np.cos(theta)]])\n",
    "        \n",
    "    # Cartesian coordinates that correspond to the spherical angles:\n",
    "    # (this is the equation of an ellipsoid):\n",
    "    x = rx * np.outer(np.cos(u), np.sin(k))# + C[0]\n",
    "    y = ry * np.outer(np.sin(u), np.sin(k))# + C[1]\n",
    "    z = rz * np.outer(np.ones_like(u), np.cos(k))# + C[2]\n",
    "    \n",
    "    for i in range(len(x)):\n",
    "        for j in range(len(x)):\n",
    "            [x[i,j],y[i,j],z[i,j]] = np.dot([x[i,j],y[i,j],z[i,j]], rotate) + C\n",
    "    \n",
    "    # plot ellipsoid\n",
    "    ax.plot_wireframe(x, y, z,  rstride = 3, cstride = 3, color = c, alpha = 0.5, label = '{}'.format(es[ei]))\n",
    "\n",
    "\n",
    "# format and display figure\n",
    "plt.legend()\n",
    "plt.show()\n"
   ]
  },
  {
   "cell_type": "code",
   "execution_count": 57,
   "metadata": {},
   "outputs": [
    {
     "data": {
      "application/vnd.jupyter.widget-view+json": {
       "model_id": "24565a6a2c1746648c5f2a0facc0ebe3",
       "version_major": 2,
       "version_minor": 0
      },
      "text/plain": [
       "Canvas(toolbar=Toolbar(toolitems=[('Home', 'Reset original view', 'home', 'home'), ('Back', 'Back to previous …"
      ]
     },
     "metadata": {},
     "output_type": "display_data"
    }
   ],
   "source": [
    "## test ray-optic refraction path calculation and 3d display\n",
    "\n",
    "# initialise 3d figure\n",
    "_w = 6; _h = 6\n",
    "fig = plt.figure(figsize = (_w, _h))\n",
    "fig.canvas.layout.width = '{}in'.format(_w); fig.canvas.layout.height= '{}in'.format(_h)\n",
    "ax = fig.add_subplot(111, projection='3d')\n",
    "\n",
    "ax.set_xlim(-3., 3.)\n",
    "ax.set_ylim(-3., 3.)\n",
    "ax.set_zlim(-3., 3.)\n",
    "\n",
    "\n",
    "# ellipse centre, radius, and axis vectors\n",
    "C = np.array([2., 1., -1.])\n",
    "r = 2.5\n",
    "#e = [0.4, .6, .6]\n",
    "e = np.array([0.6, 1.3, 1.])\n",
    "\n",
    "rx, ry, rz = np.array(e) * r\n",
    "\n",
    "# Set of all spherical angles:\n",
    "u = np.linspace(0.5 * np.pi, 1.5 * np.pi, 50)\n",
    "k = np.linspace(0., np.pi, 50)\n",
    "\n",
    "# Cartesian coordinates that correspond to the spherical angles:\n",
    "# (this is the equation of an ellipsoid):\n",
    "x = rx * np.outer(np.cos(u), np.sin(k))# + C[0]\n",
    "y = ry * np.outer(np.sin(u), np.sin(k))# + C[1]\n",
    "z = rz * np.outer(np.ones_like(u), np.cos(k))# + C[2]\n",
    "\n",
    "\n",
    "# pure rotation about primary axis, input angle in degrees\n",
    "theta = 45.\n",
    "_theta = np.deg2rad(theta)\n",
    "rotate = np.array([[1,0,0], [0, np.cos(_theta), -np.sin(_theta)], [0, np.sin(_theta), np.cos(_theta)]])\n",
    "\n",
    "for i in range(len(x)):\n",
    "    for j in range(len(x)):\n",
    "        [x[i,j],y[i,j],z[i,j]] = np.dot([x[i,j],y[i,j],z[i,j]], rotate) + C\n",
    "\n",
    "\n",
    "# plot ellipsoid\n",
    "ax.plot_wireframe(x, y, z,  rstride = 2, cstride = 2, color = 'k')\n",
    "\n",
    "\n",
    "for Ly in np.arange(-1., 2., .5)[:]:\n",
    "\n",
    "    # point on line (origin) and direction vector\n",
    "    #L0 = [.0, 2., .5]\n",
    "    L0 = [.0, Ly, .5]\n",
    "    v = [1., .2, -.1]\n",
    "\n",
    "    icepts = optics.engine.get_intercept(C, r, e, L0, v, theta)\n",
    "\n",
    "    # define ray line points\n",
    "    line = np.array([L0]).T + np.arange(-3., 5., 1.) * np.array([v]).T\n",
    "\n",
    "    # plot ray line from points\n",
    "    ax.plot( line[0,], line[1,], line[2,], color = 'r', alpha = 0.9)\n",
    "\n",
    "    # plot intercept points\n",
    "    for icept in icepts[-1:]:\n",
    "        ax.plot(*icept, 'or')\n",
    "\n",
    "    # point of intercept (on tangent plane)\n",
    "    p = icepts[-1][:,0]\n",
    "\n",
    "    # calculate surface normal vector\n",
    "    n = optics.engine.get_surface_normal(C, e, p)\n",
    "\n",
    "    # calculate d coefficient from point and normal vector\n",
    "    d = p @ n - r\n",
    "\n",
    "    # define ray line points\n",
    "    line = np.array([p]).T + np.arange(p[0] - 2., p[0] + 1.) * np.array([n]).T\n",
    "    # plot ray line from points\n",
    "    ax.plot( line[0,], line[1,], line[2,], color = 'b', alpha = 0.9)\n",
    "\n",
    "\n",
    "    # create y,z mesh\n",
    "    yy, zz = np.meshgrid(np.arange(p[1] - 2., p[1] + 3.), np.arange(p[2] - 2., p[2] + 3.))\n",
    "    # calculate corresponding x\n",
    "    x = (r - (yy*n[1]) - (zz*n[2]) + d) / n[0]\n",
    "\n",
    "    # plot ellipsoid\n",
    "    ax.plot_wireframe(x, yy, zz,  rstride = 1, cstride = 1, color = 'g', alpha = 0.2)\n",
    "\n",
    "    \n",
    "    n1 = 1.0\n",
    "    n2 = 1.5\n",
    "    \n",
    "    V = optics.engine.get_refracted_vector(n1, n2, n, v)\n",
    "\n",
    "    # define ray line points\n",
    "    line = np.array([p]).T + np.arange(p[0] - 2., p[0] + 1.) * np.array([V]).T\n",
    "    # plot ray line from points\n",
    "    ax.plot( line[0,], line[1,], line[2,], color = 'purple', alpha = 0.8)\n",
    "    \n",
    "\n",
    "# format and display figure\n",
    "plt.show()\n"
   ]
  },
  {
   "cell_type": "code",
   "execution_count": null,
   "metadata": {},
   "outputs": [],
   "source": []
  },
  {
   "cell_type": "code",
   "execution_count": 11,
   "metadata": {},
   "outputs": [],
   "source": [
    "''' define test optic '''\n",
    "\n",
    "cornea_f_dist = 0.\n",
    "cornea_f_rad = 2.\n",
    "\n",
    "cornea_pow = 1.1\n",
    "cornea_sph = 0.\n",
    "\n",
    "opts = [\n",
    "    { # cornea\n",
    "        'centre': np.array([cornea_f_dist, 0., 0.]),\n",
    "        'opt_den': 1.377,\n",
    "        'scale': np.array([cornea_pow, cornea_sph, 1.]),\n",
    "        'radius': cornea_f_rad,\n",
    "        'rev': False,\n",
    "    },\n",
    "]\n"
   ]
  },
  {
   "cell_type": "code",
   "execution_count": 19,
   "metadata": {},
   "outputs": [
    {
     "name": "stdout",
     "output_type": "stream",
     "text": [
      "25\n"
     ]
    }
   ],
   "source": [
    "''' generate test rays'''\n",
    "\n",
    "rays = []\n",
    "\n",
    "# calculate ray initial positions\n",
    "rng = 1.\n",
    "stp = 0.5\n",
    "\n",
    "for Lz in np.arange(-rng, rng + stp, stp)[:]:\n",
    "    for Ly in np.arange(-rng, rng + stp, stp)[:]:\n",
    "\n",
    "        # origin ray position\n",
    "        L0 = np.array([0., Ly, Lz])\n",
    "\n",
    "        # normalised direction vector\n",
    "        v = np.array([1., 0., 0.])\n",
    "        v = v / np.linalg.norm(v)\n",
    "\n",
    "        # store ray\n",
    "        ray = np.concatenate([L0, v])\n",
    "        rays.append(ray)\n",
    "\n",
    "print(len(rays))"
   ]
  },
  {
   "cell_type": "code",
   "execution_count": 21,
   "metadata": {},
   "outputs": [
    {
     "data": {
      "text/plain": [
       "array([0., 0., 0., 1., 0., 0.])"
      ]
     },
     "execution_count": 21,
     "metadata": {},
     "output_type": "execute_result"
    }
   ],
   "source": [
    "ray = rays[12]\n",
    "ray"
   ]
  },
  {
   "cell_type": "code",
   "execution_count": 28,
   "metadata": {},
   "outputs": [
    {
     "name": "stdout",
     "output_type": "stream",
     "text": [
      "[0. 0. 0.] [1. 0. 0.]\n",
      "[0. 0. 0.] 2.0 [1.1 0.  1. ]\n"
     ]
    }
   ],
   "source": [
    "L0 = ray[:3]\n",
    "v = ray[3:]\n",
    "\n",
    "print(L0, v)\n",
    "\n",
    "# iterate over optics in path\n",
    "optic = opts[0]\n",
    "\n",
    "# get optic (ellipsoid): centre, radius, axes scale, refractive index, reverse flag\n",
    "C = optic['centre']\n",
    "r = optic['radius']\n",
    "e = optic['scale']\n",
    "\n",
    "print(C, r, e)"
   ]
  },
  {
   "cell_type": "code",
   "execution_count": 29,
   "metadata": {},
   "outputs": [
    {
     "name": "stdout",
     "output_type": "stream",
     "text": [
      "C\n",
      " [[0.]\n",
      " [0.]\n",
      " [0.]]\n",
      "L0\n",
      " [[0.]\n",
      " [0.]\n",
      " [0.]]\n",
      "v\n",
      " [[1.]\n",
      " [0.]\n",
      " [0.]]\n"
     ]
    }
   ],
   "source": [
    "# ellipse centre, radius, and axis vectors\n",
    "C = np.array([C]).T\n",
    "\n",
    "print('C\\n', C)\n",
    "\n",
    "# point on line (origin) and direction vector\n",
    "L0 = np.array([L0]).T\n",
    "v = np.array([v]).T\n",
    "\n",
    "print('L0\\n', L0)\n",
    "print('v\\n', v)\n"
   ]
  },
  {
   "cell_type": "code",
   "execution_count": 30,
   "metadata": {},
   "outputs": [
    {
     "name": "stdout",
     "output_type": "stream",
     "text": [
      "T\n",
      " [[1. 0. 0. 0.]\n",
      " [0. 1. 0. 0.]\n",
      " [0. 0. 1. 0.]\n",
      " [0. 0. 0. 1.]]\n"
     ]
    }
   ],
   "source": [
    "# Translation Matrix\n",
    "T = np.identity(4)\n",
    "T[:-1,-1:] = C\n",
    "\n",
    "print('T\\n', T)"
   ]
  },
  {
   "cell_type": "code",
   "execution_count": null,
   "metadata": {},
   "outputs": [],
   "source": []
  },
  {
   "cell_type": "code",
   "execution_count": 46,
   "metadata": {},
   "outputs": [
    {
     "name": "stdout",
     "output_type": "stream",
     "text": [
      "R\n",
      " [[ 1.         0.         0.         0.       ]\n",
      " [ 0.         0.8660254 -0.5        0.       ]\n",
      " [ 0.         0.5        0.8660254  0.       ]\n",
      " [ 0.         0.         0.         1.       ]]\n"
     ]
    }
   ],
   "source": [
    "\n",
    "## generate rotation matrix from angle theta (deg.) around primary axis\n",
    "\n",
    "theta = np.deg2rad(30)\n",
    "\n",
    "rotate = np.array([\n",
    "    [1,0,0],\n",
    "    [0, np.cos(theta), -np.sin(theta)],\n",
    "    [0, np.sin(theta), np.cos(theta)]\n",
    "])\n",
    "\n",
    "## fix rotation if required in future\n",
    "\n",
    "# Rotation/Scale Matrix ?\n",
    "R = np.identity(4)\n",
    "R[:-1,:-1] = rotate\n",
    "\n",
    "print('R\\n', R)\n",
    "\n",
    "#print(R)"
   ]
  },
  {
   "cell_type": "code",
   "execution_count": 51,
   "metadata": {},
   "outputs": [
    {
     "data": {
      "text/plain": [
       "1.0"
      ]
     },
     "execution_count": 51,
     "metadata": {},
     "output_type": "execute_result"
    }
   ],
   "source": [
    "np.linalg.norm(rotate[:,2])"
   ]
  },
  {
   "cell_type": "code",
   "execution_count": 31,
   "metadata": {},
   "outputs": [
    {
     "name": "stdout",
     "output_type": "stream",
     "text": [
      "R\n",
      " [[1.1 0.  0.  0. ]\n",
      " [0.  0.  0.  0. ]\n",
      " [0.  0.  1.  0. ]\n",
      " [0.  0.  0.  1. ]]\n"
     ]
    }
   ],
   "source": [
    "## fix rotation if required in future\n",
    "\n",
    "# Rotation/Scale Matrix ?\n",
    "R = np.identity(4)\n",
    "R[:-1,:-1] = np.identity(3) * np.array(e).T\n",
    "\n",
    "print('R\\n', R)"
   ]
  },
  {
   "cell_type": "code",
   "execution_count": 41,
   "metadata": {},
   "outputs": [
    {
     "name": "stdout",
     "output_type": "stream",
     "text": [
      "a\n",
      " [[1.]\n",
      " [0.]\n",
      " [0.]]\n",
      "b\n",
      " [[0. ]\n",
      " [1.2]\n",
      " [0. ]]\n",
      "c\n",
      " [[0.]\n",
      " [0.]\n",
      " [1.]]\n",
      "S\n",
      " [[1.  0.  0.  0. ]\n",
      " [0.  1.2 0.  0. ]\n",
      " [0.  0.  1.  0. ]\n",
      " [0.  0.  0.  1. ]]\n"
     ]
    }
   ],
   "source": [
    "\n",
    "a = np.array([[1., 0., 0.]]).T# * e[0]\n",
    "b = np.array([[0., 1., 0.]]).T# * e[1]\n",
    "c = np.array([[0., 0., 1.]]).T# * e[2]\n",
    "\n",
    "print('a\\n', a)\n",
    "print('b\\n', b)\n",
    "print('c\\n', c)\n",
    "\n",
    "\n",
    "# Scale/Rotate Matrix ?\n",
    "S = np.identity(4)\n",
    "S[0,0] = np.linalg.norm(a)\n",
    "S[1,1] = np.linalg.norm(b)\n",
    "S[2,2] = np.linalg.norm(c)\n",
    "\n",
    "print('S\\n', S)"
   ]
  },
  {
   "cell_type": "code",
   "execution_count": null,
   "metadata": {},
   "outputs": [],
   "source": [
    "# Transformation Matrix\n",
    "M = T @ R #@ S\n",
    "\n",
    "\n",
    "# rescaled sphere centre\n",
    "C_ = np.array([[0, 0, 0, 1]]).T\n",
    "\n",
    "# transformed line origin\n",
    "L0_ = np.linalg.inv(M) @ np.row_stack([L0,[1]])\n",
    "# difference line vector\n",
    "w = L0_ - C_\n",
    "\n",
    "# transformed line vector\n",
    "v_ = np.linalg.inv(M) @ np.row_stack([v,[0]])\n",
    "\n",
    "\n",
    "# coefficients of quadratic intersection\n",
    "a_ = (v_.T @ v_)[0]\n",
    "b_ = 2*((v_.T @ w)[0])\n",
    "c_ = (w.T @ w)[0] - r**2\n",
    "\n",
    "# descriminant of quadratic\n",
    "d_ = b_**2 - 4*a_*c_\n",
    "\n",
    "\n",
    "# intersection points\n",
    "if d_ > 0:\n",
    "    t1 = (-b_ + np.sqrt(d_)) / (2*a_)\n",
    "    t2 = (-b_ - np.sqrt(d_)) / (2*a_)\n",
    "    L_int1 = L0 + t1 * v\n",
    "    L_int2 = L0 + t2 * v\n",
    "    icept = [L_int1, L_int2]\n",
    "\n",
    "\n",
    "# tangent intercept\n",
    "elif d_ == 0:\n",
    "    t = -b_ / (2*a_)\n",
    "    L_int = L0 + t * v\n",
    "    icept = [L_int]\n",
    "\n",
    "\n",
    "# no intercept\n",
    "else:\n",
    "    icept = []\n",
    "\n"
   ]
  }
 ],
 "metadata": {
  "kernelspec": {
   "display_name": "optics",
   "language": "python",
   "name": "optics"
  },
  "language_info": {
   "codemirror_mode": {
    "name": "ipython",
    "version": 3
   },
   "file_extension": ".py",
   "mimetype": "text/x-python",
   "name": "python",
   "nbconvert_exporter": "python",
   "pygments_lexer": "ipython3",
   "version": "3.7.4"
  }
 },
 "nbformat": 4,
 "nbformat_minor": 4
}
